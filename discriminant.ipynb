{
 "cells": [
  {
   "cell_type": "code",
   "execution_count": 7,
   "id": "2b0a1644-1532-44d6-994f-206d873f33bc",
   "metadata": {},
   "outputs": [
    {
     "name": "stdin",
     "output_type": "stream",
     "text": [
      "Enter a:  1\n",
      "Enter b:  2\n",
      "Enter c:  3\n"
     ]
    },
    {
     "name": "stdout",
     "output_type": "stream",
     "text": [
      "Решения нет\n"
     ]
    }
   ],
   "source": [
    "a = int(input('Enter a: '))\n",
    "b = int(input('Enter b: '))\n",
    "c = int(input('Enter c: '))\n",
    "\n",
    "D = b**2 - 4 * a * c\n",
    "\n",
    "if D > 0:\n",
    "    x1 = (-b + D**0.5)/2*a\n",
    "    x2 = (-b - D**0.5)/2*a\n",
    "    print(x1)\n",
    "    print(x2)\n",
    "elif D == 0:\n",
    "    x = -b/2*a\n",
    "    print(x)\n",
    "else:\n",
    "    D < 0 \n",
    "    print('Решения нет')\n"
   ]
  },
  {
   "cell_type": "code",
   "execution_count": null,
   "id": "b53ee89e-4853-4d15-88cb-634447235cfc",
   "metadata": {},
   "outputs": [],
   "source": []
  }
 ],
 "metadata": {
  "kernelspec": {
   "display_name": "Python 3 (ipykernel)",
   "language": "python",
   "name": "python3"
  },
  "language_info": {
   "codemirror_mode": {
    "name": "ipython",
    "version": 3
   },
   "file_extension": ".py",
   "mimetype": "text/x-python",
   "name": "python",
   "nbconvert_exporter": "python",
   "pygments_lexer": "ipython3",
   "version": "3.8.9"
  }
 },
 "nbformat": 4,
 "nbformat_minor": 5
}
